{
  "cells": [
    {
      "cell_type": "markdown",
      "metadata": {
        "id": "view-in-github",
        "colab_type": "text"
      },
      "source": [
        "<a href=\"https://colab.research.google.com/github/Kelvyh/ML2023-KelvyHallyson/blob/main/Lista%2002%20-%20fmnist/knn_fashionmnist.ipynb\" target=\"_parent\"><img src=\"https://colab.research.google.com/assets/colab-badge.svg\" alt=\"Open In Colab\"/></a>"
      ]
    },
    {
      "cell_type": "markdown",
      "metadata": {
        "id": "S-axE2hujesS"
      },
      "source": [
        "FONTE: https://www.kaggle.com/zalando-research/fashionmnist\n",
        "\n",
        "### Dataset\n",
        "Fashion-MNIST é um conjunto de dados das imagens dos artigos de Zalando - consistindo em um conjunto de treinamento de 60.000 exemplos e um conjunto de testes de 10.000 exemplos. Cada exemplo é uma imagem em escala de cinza de 28 x 28, associada a um rótulo de 10 classes. Zalando pretende que o Fashion-MNIST sirva como substituto direto do conjunto de dados MNIST original para algoritmos de aprendizado de máquina de benchmarking. Ele compartilha o mesmo tamanho de imagem e estrutura de divisões de treinamento e teste.\n",
        "\n",
        "O conjunto de dados MNIST original contém muitos dígitos manuscritos. Os membros da comunidade de AI / ML / Ciência de dados amam esse conjunto de dados e o usam como referência para validar seus algoritmos. De fato, o MNIST é frequentemente o primeiro grupo de dados que os pesquisadores tentam. \"Se não funcionar no MNIST, não funcionará\", disseram eles. \"Bem, se funcionar no MNIST, ainda poderá falhar nos outros.\"\n",
        "\n",
        "Zalando procura substituir o conjunto de dados MNIST original"
      ]
    },
    {
      "cell_type": "markdown",
      "metadata": {
        "id": "Kz5JM9M5jesW"
      },
      "source": [
        "### Conteúdo\n",
        "Cada imagem tem 28 pixels de altura e 28 pixels de largura, totalizando 784 pixels no total. Cada pixel tem um único valor de pixel associado, indicando a claridade ou a escuridão desse pixel, com números mais altos significando mais escuros. Esse valor de pixel é um número inteiro entre 0 e 255. Os conjuntos de dados de treinamento e teste possuem 785 colunas. A primeira coluna consiste nos rótulos das classes (veja acima) e representa o artigo de vestuário. O restante das colunas contém os valores de pixel da imagem associada.\n",
        "\n",
        "Para localizar um pixel na imagem, suponha que decompusemos x como x = i * 28 + j, onde i e j são números inteiros entre 0 e 27. O pixel está localizado na linha i e na coluna j de uma matriz 28 x 28 .\n",
        "Por exemplo, pixel31 indica o pixel que está na quarta coluna da esquerda e a segunda linha da parte superior, como no diagrama ascii abaixo."
      ]
    },
    {
      "cell_type": "markdown",
      "metadata": {
        "id": "4bq9VUM9jesW"
      },
      "source": [
        "Cada exemplo de treinamento e teste é atribuído a um dos seguintes rótulos:\n",
        "\n",
        "0 Camiseta / top\n",
        "\n",
        "1 calça\n",
        "\n",
        "2 Pulôver\n",
        "\n",
        "3 Vestido\n",
        "\n",
        "4 Casaco\n",
        "\n",
        "5 Sandália\n",
        "\n",
        "6 Camisa\n",
        "\n",
        "7 Sapatilha\n",
        "\n",
        "8 Bag\n",
        "\n",
        "9 Bota no tornozelo\n",
        "\n",
        "TL; DR\n",
        "\n",
        "Cada linha é uma imagem separada.\n",
        "A coluna 1 é o rótulo da classe.\n",
        "As colunas restantes são números de pixels (784 no total).\n",
        "Cada valor é a \"escuridão\" do pixel (1 a 255)"
      ]
    },
    {
      "cell_type": "code",
      "execution_count": 2,
      "metadata": {
        "id": "W4K7fLKujesX"
      },
      "outputs": [],
      "source": [
        "import pandas as pd"
      ]
    },
    {
      "cell_type": "code",
      "source": [
        "from google.colab import drive\n",
        "drive.mount('/content/drive')"
      ],
      "metadata": {
        "colab": {
          "base_uri": "https://localhost:8080/"
        },
        "id": "P5rLwxp7wgKu",
        "outputId": "01dd1767-6c10-44b8-aa95-e1f77b745628"
      },
      "execution_count": 3,
      "outputs": [
        {
          "output_type": "stream",
          "name": "stdout",
          "text": [
            "Drive already mounted at /content/drive; to attempt to forcibly remount, call drive.mount(\"/content/drive\", force_remount=True).\n"
          ]
        }
      ]
    },
    {
      "cell_type": "code",
      "execution_count": 4,
      "metadata": {
        "id": "vw9FwPfZjesY"
      },
      "outputs": [],
      "source": [
        "data = pd.read_csv('/content/drive/MyDrive/fashion-mnist_train.csv')"
      ]
    },
    {
      "cell_type": "code",
      "execution_count": 5,
      "metadata": {
        "id": "XE1OG4cYjesY",
        "outputId": "fc9c51dc-4953-497f-e7ad-60ce56415792",
        "colab": {
          "base_uri": "https://localhost:8080/",
          "height": 300
        }
      },
      "outputs": [
        {
          "output_type": "execute_result",
          "data": {
            "text/plain": [
              "   label  pixel1  pixel2  pixel3  pixel4  pixel5  pixel6  pixel7  pixel8  \\\n",
              "0      2       0       0       0       0       0       0       0       0   \n",
              "1      9       0       0       0       0       0       0       0       0   \n",
              "2      6       0       0       0       0       0       0       0       5   \n",
              "3      0       0       0       0       1       2       0       0       0   \n",
              "4      3       0       0       0       0       0       0       0       0   \n",
              "\n",
              "   pixel9  ...  pixel775  pixel776  pixel777  pixel778  pixel779  pixel780  \\\n",
              "0       0  ...         0         0         0         0         0         0   \n",
              "1       0  ...         0         0         0         0         0         0   \n",
              "2       0  ...         0         0         0        30        43         0   \n",
              "3       0  ...         3         0         0         0         0         1   \n",
              "4       0  ...         0         0         0         0         0         0   \n",
              "\n",
              "   pixel781  pixel782  pixel783  pixel784  \n",
              "0         0         0         0         0  \n",
              "1         0         0         0         0  \n",
              "2         0         0         0         0  \n",
              "3         0         0         0         0  \n",
              "4         0         0         0         0  \n",
              "\n",
              "[5 rows x 785 columns]"
            ],
            "text/html": [
              "\n",
              "  <div id=\"df-37640c0c-0f68-4143-a58d-eb6a7d4d1856\">\n",
              "    <div class=\"colab-df-container\">\n",
              "      <div>\n",
              "<style scoped>\n",
              "    .dataframe tbody tr th:only-of-type {\n",
              "        vertical-align: middle;\n",
              "    }\n",
              "\n",
              "    .dataframe tbody tr th {\n",
              "        vertical-align: top;\n",
              "    }\n",
              "\n",
              "    .dataframe thead th {\n",
              "        text-align: right;\n",
              "    }\n",
              "</style>\n",
              "<table border=\"1\" class=\"dataframe\">\n",
              "  <thead>\n",
              "    <tr style=\"text-align: right;\">\n",
              "      <th></th>\n",
              "      <th>label</th>\n",
              "      <th>pixel1</th>\n",
              "      <th>pixel2</th>\n",
              "      <th>pixel3</th>\n",
              "      <th>pixel4</th>\n",
              "      <th>pixel5</th>\n",
              "      <th>pixel6</th>\n",
              "      <th>pixel7</th>\n",
              "      <th>pixel8</th>\n",
              "      <th>pixel9</th>\n",
              "      <th>...</th>\n",
              "      <th>pixel775</th>\n",
              "      <th>pixel776</th>\n",
              "      <th>pixel777</th>\n",
              "      <th>pixel778</th>\n",
              "      <th>pixel779</th>\n",
              "      <th>pixel780</th>\n",
              "      <th>pixel781</th>\n",
              "      <th>pixel782</th>\n",
              "      <th>pixel783</th>\n",
              "      <th>pixel784</th>\n",
              "    </tr>\n",
              "  </thead>\n",
              "  <tbody>\n",
              "    <tr>\n",
              "      <th>0</th>\n",
              "      <td>2</td>\n",
              "      <td>0</td>\n",
              "      <td>0</td>\n",
              "      <td>0</td>\n",
              "      <td>0</td>\n",
              "      <td>0</td>\n",
              "      <td>0</td>\n",
              "      <td>0</td>\n",
              "      <td>0</td>\n",
              "      <td>0</td>\n",
              "      <td>...</td>\n",
              "      <td>0</td>\n",
              "      <td>0</td>\n",
              "      <td>0</td>\n",
              "      <td>0</td>\n",
              "      <td>0</td>\n",
              "      <td>0</td>\n",
              "      <td>0</td>\n",
              "      <td>0</td>\n",
              "      <td>0</td>\n",
              "      <td>0</td>\n",
              "    </tr>\n",
              "    <tr>\n",
              "      <th>1</th>\n",
              "      <td>9</td>\n",
              "      <td>0</td>\n",
              "      <td>0</td>\n",
              "      <td>0</td>\n",
              "      <td>0</td>\n",
              "      <td>0</td>\n",
              "      <td>0</td>\n",
              "      <td>0</td>\n",
              "      <td>0</td>\n",
              "      <td>0</td>\n",
              "      <td>...</td>\n",
              "      <td>0</td>\n",
              "      <td>0</td>\n",
              "      <td>0</td>\n",
              "      <td>0</td>\n",
              "      <td>0</td>\n",
              "      <td>0</td>\n",
              "      <td>0</td>\n",
              "      <td>0</td>\n",
              "      <td>0</td>\n",
              "      <td>0</td>\n",
              "    </tr>\n",
              "    <tr>\n",
              "      <th>2</th>\n",
              "      <td>6</td>\n",
              "      <td>0</td>\n",
              "      <td>0</td>\n",
              "      <td>0</td>\n",
              "      <td>0</td>\n",
              "      <td>0</td>\n",
              "      <td>0</td>\n",
              "      <td>0</td>\n",
              "      <td>5</td>\n",
              "      <td>0</td>\n",
              "      <td>...</td>\n",
              "      <td>0</td>\n",
              "      <td>0</td>\n",
              "      <td>0</td>\n",
              "      <td>30</td>\n",
              "      <td>43</td>\n",
              "      <td>0</td>\n",
              "      <td>0</td>\n",
              "      <td>0</td>\n",
              "      <td>0</td>\n",
              "      <td>0</td>\n",
              "    </tr>\n",
              "    <tr>\n",
              "      <th>3</th>\n",
              "      <td>0</td>\n",
              "      <td>0</td>\n",
              "      <td>0</td>\n",
              "      <td>0</td>\n",
              "      <td>1</td>\n",
              "      <td>2</td>\n",
              "      <td>0</td>\n",
              "      <td>0</td>\n",
              "      <td>0</td>\n",
              "      <td>0</td>\n",
              "      <td>...</td>\n",
              "      <td>3</td>\n",
              "      <td>0</td>\n",
              "      <td>0</td>\n",
              "      <td>0</td>\n",
              "      <td>0</td>\n",
              "      <td>1</td>\n",
              "      <td>0</td>\n",
              "      <td>0</td>\n",
              "      <td>0</td>\n",
              "      <td>0</td>\n",
              "    </tr>\n",
              "    <tr>\n",
              "      <th>4</th>\n",
              "      <td>3</td>\n",
              "      <td>0</td>\n",
              "      <td>0</td>\n",
              "      <td>0</td>\n",
              "      <td>0</td>\n",
              "      <td>0</td>\n",
              "      <td>0</td>\n",
              "      <td>0</td>\n",
              "      <td>0</td>\n",
              "      <td>0</td>\n",
              "      <td>...</td>\n",
              "      <td>0</td>\n",
              "      <td>0</td>\n",
              "      <td>0</td>\n",
              "      <td>0</td>\n",
              "      <td>0</td>\n",
              "      <td>0</td>\n",
              "      <td>0</td>\n",
              "      <td>0</td>\n",
              "      <td>0</td>\n",
              "      <td>0</td>\n",
              "    </tr>\n",
              "  </tbody>\n",
              "</table>\n",
              "<p>5 rows × 785 columns</p>\n",
              "</div>\n",
              "      <button class=\"colab-df-convert\" onclick=\"convertToInteractive('df-37640c0c-0f68-4143-a58d-eb6a7d4d1856')\"\n",
              "              title=\"Convert this dataframe to an interactive table.\"\n",
              "              style=\"display:none;\">\n",
              "        \n",
              "  <svg xmlns=\"http://www.w3.org/2000/svg\" height=\"24px\"viewBox=\"0 0 24 24\"\n",
              "       width=\"24px\">\n",
              "    <path d=\"M0 0h24v24H0V0z\" fill=\"none\"/>\n",
              "    <path d=\"M18.56 5.44l.94 2.06.94-2.06 2.06-.94-2.06-.94-.94-2.06-.94 2.06-2.06.94zm-11 1L8.5 8.5l.94-2.06 2.06-.94-2.06-.94L8.5 2.5l-.94 2.06-2.06.94zm10 10l.94 2.06.94-2.06 2.06-.94-2.06-.94-.94-2.06-.94 2.06-2.06.94z\"/><path d=\"M17.41 7.96l-1.37-1.37c-.4-.4-.92-.59-1.43-.59-.52 0-1.04.2-1.43.59L10.3 9.45l-7.72 7.72c-.78.78-.78 2.05 0 2.83L4 21.41c.39.39.9.59 1.41.59.51 0 1.02-.2 1.41-.59l7.78-7.78 2.81-2.81c.8-.78.8-2.07 0-2.86zM5.41 20L4 18.59l7.72-7.72 1.47 1.35L5.41 20z\"/>\n",
              "  </svg>\n",
              "      </button>\n",
              "      \n",
              "  <style>\n",
              "    .colab-df-container {\n",
              "      display:flex;\n",
              "      flex-wrap:wrap;\n",
              "      gap: 12px;\n",
              "    }\n",
              "\n",
              "    .colab-df-convert {\n",
              "      background-color: #E8F0FE;\n",
              "      border: none;\n",
              "      border-radius: 50%;\n",
              "      cursor: pointer;\n",
              "      display: none;\n",
              "      fill: #1967D2;\n",
              "      height: 32px;\n",
              "      padding: 0 0 0 0;\n",
              "      width: 32px;\n",
              "    }\n",
              "\n",
              "    .colab-df-convert:hover {\n",
              "      background-color: #E2EBFA;\n",
              "      box-shadow: 0px 1px 2px rgba(60, 64, 67, 0.3), 0px 1px 3px 1px rgba(60, 64, 67, 0.15);\n",
              "      fill: #174EA6;\n",
              "    }\n",
              "\n",
              "    [theme=dark] .colab-df-convert {\n",
              "      background-color: #3B4455;\n",
              "      fill: #D2E3FC;\n",
              "    }\n",
              "\n",
              "    [theme=dark] .colab-df-convert:hover {\n",
              "      background-color: #434B5C;\n",
              "      box-shadow: 0px 1px 3px 1px rgba(0, 0, 0, 0.15);\n",
              "      filter: drop-shadow(0px 1px 2px rgba(0, 0, 0, 0.3));\n",
              "      fill: #FFFFFF;\n",
              "    }\n",
              "  </style>\n",
              "\n",
              "      <script>\n",
              "        const buttonEl =\n",
              "          document.querySelector('#df-37640c0c-0f68-4143-a58d-eb6a7d4d1856 button.colab-df-convert');\n",
              "        buttonEl.style.display =\n",
              "          google.colab.kernel.accessAllowed ? 'block' : 'none';\n",
              "\n",
              "        async function convertToInteractive(key) {\n",
              "          const element = document.querySelector('#df-37640c0c-0f68-4143-a58d-eb6a7d4d1856');\n",
              "          const dataTable =\n",
              "            await google.colab.kernel.invokeFunction('convertToInteractive',\n",
              "                                                     [key], {});\n",
              "          if (!dataTable) return;\n",
              "\n",
              "          const docLinkHtml = 'Like what you see? Visit the ' +\n",
              "            '<a target=\"_blank\" href=https://colab.research.google.com/notebooks/data_table.ipynb>data table notebook</a>'\n",
              "            + ' to learn more about interactive tables.';\n",
              "          element.innerHTML = '';\n",
              "          dataTable['output_type'] = 'display_data';\n",
              "          await google.colab.output.renderOutput(dataTable, element);\n",
              "          const docLink = document.createElement('div');\n",
              "          docLink.innerHTML = docLinkHtml;\n",
              "          element.appendChild(docLink);\n",
              "        }\n",
              "      </script>\n",
              "    </div>\n",
              "  </div>\n",
              "  "
            ]
          },
          "metadata": {},
          "execution_count": 5
        }
      ],
      "source": [
        "data.head()"
      ]
    },
    {
      "cell_type": "code",
      "execution_count": 6,
      "metadata": {
        "id": "i_7pYiaPjesZ"
      },
      "outputs": [],
      "source": [
        "import matplotlib.pyplot as plt\n",
        "%matplotlib inline"
      ]
    },
    {
      "cell_type": "code",
      "execution_count": 7,
      "metadata": {
        "id": "arPYFFrrjesZ",
        "outputId": "c3729908-5819-4d71-851f-c5f2e1dbc7bd",
        "colab": {
          "base_uri": "https://localhost:8080/",
          "height": 430
        }
      },
      "outputs": [
        {
          "output_type": "display_data",
          "data": {
            "text/plain": [
              "<Figure size 640x480 with 1 Axes>"
            ],
            "image/png": "[encoded data removed]"
          },
          "metadata": {}
        }
      ],
      "source": [
        "# Imprimindo um objeto do dataset\n",
        "plt.imshow(data.values[0][1:].reshape(28,28), cmap='gray', interpolation='none')\n",
        "plt.show()"
      ]
    },
    {
      "cell_type": "markdown",
      "metadata": {
        "id": "f6V0LB-xjesa"
      },
      "source": [
        "### A atividade consiste em utilizar o KNN para classificar as imagens do fmnist"
      ]
    },
    {
      "cell_type": "code",
      "source": [
        "from sklearn.model_selection import train_test_split\n",
        "import numpy as np"
      ],
      "metadata": {
        "id": "1hDqEc2pycWf"
      },
      "execution_count": 8,
      "outputs": []
    },
    {
      "cell_type": "markdown",
      "source": [
        "Pegando os dados de treino e teste."
      ],
      "metadata": {
        "id": "Z4UiVJbSR74M"
      }
    },
    {
      "cell_type": "code",
      "source": [
        "train = np.array(pd.read_csv('/content/drive/MyDrive/fashion-mnist_train.csv'))\n",
        "test = np.array(pd.read_csv('/content/drive/MyDrive/fashion-mnist_test.csv'))"
      ],
      "metadata": {
        "id": "cVqHUv7hEIh8"
      },
      "execution_count": 9,
      "outputs": []
    },
    {
      "cell_type": "markdown",
      "source": [
        "Criando dados de validação apartir dos dados de teste."
      ],
      "metadata": {
        "id": "6YbIpQtZR3SV"
      }
    },
    {
      "cell_type": "code",
      "source": [
        "train_labels = np.ravel(train[:, 0:1])\n",
        "test_labels =  np.ravel(test[:, 0:1])"
      ],
      "metadata": {
        "id": "l8N_JLcPR-p6"
      },
      "execution_count": 10,
      "outputs": []
    },
    {
      "cell_type": "code",
      "source": [
        "(testData, valData, testLabels, valLabels) = train_test_split(test, test_labels,\n",
        "test_size=0.1, random_state=84)"
      ],
      "metadata": {
        "id": "Ok4BMI8Gygvg"
      },
      "execution_count": 11,
      "outputs": []
    },
    {
      "cell_type": "code",
      "source": [
        "print(\"training data points: {}\".format(len(train_labels)))\n",
        "print(\"testing data points: {}\".format(len(testLabels)))\n",
        "print(\"validating data points: {}\".format(len(valLabels)))"
      ],
      "metadata": {
        "colab": {
          "base_uri": "https://localhost:8080/"
        },
        "id": "DaD6xrwQSKKl",
        "outputId": "6506662a-933a-48e2-b7de-888e2ae302fe"
      },
      "execution_count": 12,
      "outputs": [
        {
          "output_type": "stream",
          "name": "stdout",
          "text": [
            "training data points: 60000\n",
            "testing data points: 9000\n",
            "validating data points: 1000\n"
          ]
        }
      ]
    },
    {
      "cell_type": "markdown",
      "source": [
        "KNN"
      ],
      "metadata": {
        "id": "pgZHy-LkTDej"
      }
    },
    {
      "cell_type": "code",
      "source": [
        "from sklearn.neighbors import KNeighborsClassifier"
      ],
      "metadata": {
        "id": "Z8YLyLApTbgk"
      },
      "execution_count": 13,
      "outputs": []
    },
    {
      "cell_type": "code",
      "source": [
        "kVals = range(1, 31, 1)\n",
        "accuracies = []"
      ],
      "metadata": {
        "id": "kBGDie_sTCr9"
      },
      "execution_count": 14,
      "outputs": []
    },
    {
      "cell_type": "markdown",
      "source": [
        "Eucliadean Distance"
      ],
      "metadata": {
        "id": "67ABzeJzxu2G"
      }
    },
    {
      "cell_type": "code",
      "source": [
        "for k in kVals:\n",
        "        # train the k-Nearest Neighbor classifier with the current value of `k`\n",
        "        model = KNeighborsClassifier(n_neighbors=k, metric='euclidean')\n",
        "        model.fit(train, train_labels)\n",
        "        # evaluate the model and update the accuracies list\n",
        "        score = model.score(valData, valLabels)\n",
        "        print(\"k=%d, accuracy=%.2f%%\" % (k, score * 100))\n",
        "        accuracies.append(score)"
      ],
      "metadata": {
        "colab": {
          "base_uri": "https://localhost:8080/"
        },
        "id": "R6cSKxjDTStd",
        "outputId": "6311be53-4e9d-4023-c7c7-d4b7ad656271"
      },
      "execution_count": 17,
      "outputs": [
        {
          "output_type": "stream",
          "name": "stdout",
          "text": [
            "k=1, accuracy=84.40%\n",
            "k=2, accuracy=84.10%\n",
            "k=3, accuracy=86.00%\n",
            "k=4, accuracy=86.90%\n",
            "k=5, accuracy=86.40%\n",
            "k=6, accuracy=86.50%\n",
            "k=7, accuracy=86.20%\n",
            "k=8, accuracy=86.30%\n",
            "k=9, accuracy=86.50%\n",
            "k=10, accuracy=86.60%\n",
            "k=11, accuracy=86.30%\n",
            "k=12, accuracy=86.60%\n",
            "k=13, accuracy=86.60%\n",
            "k=14, accuracy=86.30%\n",
            "k=15, accuracy=85.80%\n",
            "k=16, accuracy=85.90%\n",
            "k=17, accuracy=86.10%\n",
            "k=18, accuracy=85.80%\n",
            "k=19, accuracy=86.00%\n",
            "k=20, accuracy=86.30%\n",
            "k=21, accuracy=85.70%\n",
            "k=22, accuracy=85.70%\n",
            "k=23, accuracy=85.10%\n",
            "k=24, accuracy=85.30%\n",
            "k=25, accuracy=85.40%\n",
            "k=26, accuracy=85.30%\n",
            "k=27, accuracy=85.50%\n",
            "k=28, accuracy=85.30%\n",
            "k=29, accuracy=85.10%\n",
            "k=30, accuracy=85.00%\n"
          ]
        }
      ]
    },
    {
      "cell_type": "markdown",
      "source": [
        "Manhattan Distance"
      ],
      "metadata": {
        "id": "2CtJ3vvuxx1Z"
      }
    },
    {
      "cell_type": "code",
      "source": [
        "for k in kVals:\n",
        "        # train the k-Nearest Neighbor classifier with the current value of `k`\n",
        "        model = KNeighborsClassifier(n_neighbors=k, metric='manhattan')\n",
        "        model.fit(train, train_labels)\n",
        "        # evaluate the model and update the accuracies list\n",
        "        score = model.score(valData, valLabels)\n",
        "        print(\"k=%d, accuracy=%.2f%%\" % (k, score * 100))\n",
        "        accuracies.append(score)"
      ],
      "metadata": {
        "colab": {
          "base_uri": "https://localhost:8080/"
        },
        "id": "QbvOJTQ1xxBC",
        "outputId": "d000ca86-aded-4b58-fa58-505a6658e3a0"
      },
      "execution_count": 18,
      "outputs": [
        {
          "output_type": "stream",
          "name": "stdout",
          "text": [
            "k=1, accuracy=85.50%\n",
            "k=2, accuracy=84.80%\n",
            "k=3, accuracy=86.70%\n",
            "k=4, accuracy=87.10%\n",
            "k=5, accuracy=87.00%\n",
            "k=6, accuracy=86.20%\n",
            "k=7, accuracy=86.90%\n",
            "k=8, accuracy=86.10%\n",
            "k=9, accuracy=87.00%\n",
            "k=10, accuracy=86.40%\n",
            "k=11, accuracy=86.80%\n",
            "k=12, accuracy=86.80%\n",
            "k=13, accuracy=86.40%\n",
            "k=14, accuracy=86.80%\n",
            "k=15, accuracy=86.50%\n",
            "k=16, accuracy=86.60%\n",
            "k=17, accuracy=86.40%\n",
            "k=18, accuracy=86.60%\n",
            "k=19, accuracy=86.90%\n",
            "k=20, accuracy=86.10%\n",
            "k=21, accuracy=86.60%\n",
            "k=22, accuracy=86.10%\n",
            "k=23, accuracy=86.30%\n",
            "k=24, accuracy=86.30%\n",
            "k=25, accuracy=86.10%\n",
            "k=26, accuracy=85.70%\n",
            "k=27, accuracy=85.70%\n",
            "k=28, accuracy=85.70%\n",
            "k=29, accuracy=85.60%\n",
            "k=30, accuracy=85.60%\n"
          ]
        }
      ]
    },
    {
      "cell_type": "markdown",
      "source": [
        "Chebyshev Distance"
      ],
      "metadata": {
        "id": "D_NLPPhyx2xb"
      }
    },
    {
      "cell_type": "code",
      "source": [
        "for k in kVals:\n",
        "        # train the k-Nearest Neighbor classifier with the current value of `k`\n",
        "        model = KNeighborsClassifier(n_neighbors=k, metric='chebyshev')\n",
        "        model.fit(train, train_labels)\n",
        "        # evaluate the model and update the accuracies list\n",
        "        score = model.score(valData, valLabels)\n",
        "        print(\"k=%d, accuracy=%.2f%%\" % (k, score * 100))\n",
        "        accuracies.append(score)"
      ],
      "metadata": {
        "colab": {
          "base_uri": "https://localhost:8080/"
        },
        "id": "wmow3ThMx7Sf",
        "outputId": "7e7a612e-ec72-473e-86cb-7246cd29e02f"
      },
      "execution_count": 19,
      "outputs": [
        {
          "output_type": "stream",
          "name": "stdout",
          "text": [
            "k=1, accuracy=66.00%\n",
            "k=2, accuracy=62.70%\n",
            "k=3, accuracy=65.40%\n",
            "k=4, accuracy=65.20%\n",
            "k=5, accuracy=66.70%\n",
            "k=6, accuracy=66.00%\n",
            "k=7, accuracy=66.00%\n",
            "k=8, accuracy=66.20%\n",
            "k=9, accuracy=65.80%\n",
            "k=10, accuracy=66.20%\n",
            "k=11, accuracy=66.20%\n",
            "k=12, accuracy=65.60%\n",
            "k=13, accuracy=66.30%\n",
            "k=14, accuracy=65.50%\n",
            "k=15, accuracy=66.00%\n",
            "k=16, accuracy=65.30%\n",
            "k=17, accuracy=65.00%\n",
            "k=18, accuracy=64.90%\n",
            "k=19, accuracy=64.60%\n",
            "k=20, accuracy=64.60%\n",
            "k=21, accuracy=64.80%\n",
            "k=22, accuracy=64.80%\n",
            "k=23, accuracy=64.70%\n",
            "k=24, accuracy=64.80%\n",
            "k=25, accuracy=65.10%\n",
            "k=26, accuracy=64.70%\n",
            "k=27, accuracy=64.90%\n",
            "k=28, accuracy=64.20%\n",
            "k=29, accuracy=64.30%\n",
            "k=30, accuracy=64.30%\n"
          ]
        }
      ]
    },
    {
      "cell_type": "markdown",
      "source": [
        "Minkowski Distance"
      ],
      "metadata": {
        "id": "H7iHIj1SyEGx"
      }
    },
    {
      "cell_type": "code",
      "source": [
        "for k in kVals:\n",
        "        # train the k-Nearest Neighbor classifier with the current value of `k`\n",
        "        model = KNeighborsClassifier(n_neighbors=k, metric='minkowski')\n",
        "        model.fit(train, train_labels)\n",
        "        # evaluate the model and update the accuracies list\n",
        "        score = model.score(valData, valLabels)\n",
        "        print(\"k=%d, accuracy=%.2f%%\" % (k, score * 100))\n",
        "        accuracies.append(score)"
      ],
      "metadata": {
        "colab": {
          "base_uri": "https://localhost:8080/"
        },
        "id": "EVLAZZBzyG57",
        "outputId": "1e70f7fc-f746-4aa4-8425-74b95a5ba645"
      },
      "execution_count": 20,
      "outputs": [
        {
          "output_type": "stream",
          "name": "stdout",
          "text": [
            "k=1, accuracy=84.40%\n",
            "k=2, accuracy=84.10%\n",
            "k=3, accuracy=86.00%\n",
            "k=4, accuracy=86.90%\n",
            "k=5, accuracy=86.40%\n",
            "k=6, accuracy=86.50%\n",
            "k=7, accuracy=86.20%\n",
            "k=8, accuracy=86.30%\n",
            "k=9, accuracy=86.50%\n",
            "k=10, accuracy=86.60%\n",
            "k=11, accuracy=86.30%\n",
            "k=12, accuracy=86.60%\n",
            "k=13, accuracy=86.60%\n",
            "k=14, accuracy=86.30%\n",
            "k=15, accuracy=85.80%\n",
            "k=16, accuracy=85.90%\n",
            "k=17, accuracy=86.10%\n",
            "k=18, accuracy=85.80%\n",
            "k=19, accuracy=86.00%\n",
            "k=20, accuracy=86.30%\n",
            "k=21, accuracy=85.70%\n",
            "k=22, accuracy=85.70%\n",
            "k=23, accuracy=85.10%\n",
            "k=24, accuracy=85.30%\n",
            "k=25, accuracy=85.40%\n",
            "k=26, accuracy=85.30%\n",
            "k=27, accuracy=85.50%\n",
            "k=28, accuracy=85.30%\n",
            "k=29, accuracy=85.10%\n",
            "k=30, accuracy=85.00%\n"
          ]
        }
      ]
    },
    {
      "cell_type": "markdown",
      "source": [
        "Melhor valor de k e distância"
      ],
      "metadata": {
        "id": "tsvMEpPeL5jL"
      }
    },
    {
      "cell_type": "code",
      "source": [
        "euclideanAccuracies = accuracies[:30]\n",
        "manhattanAccuracies = accuracies[30:60]\n",
        "if max(euclideanAccuracies) >= max(manhattanAccuracies):\n",
        "  gtr = max(euclideanAccuracies)\n",
        "  dist = 'euclidean'\n",
        "  k = euclideanAccuracies.index(max(euclideanAccuracies))+1\n",
        "else:\n",
        "  gtr = max(manhattanAccuracies)\n",
        "  dist = 'manhattan'\n",
        "  k = manhattanAccuracies.index(max(manhattanAccuracies))+1\n",
        "chebyshevAccuracies = accuracies[60:90]\n",
        "if max(chebyshevAccuracies) > gtr:\n",
        "  gtr = max(chebyshevAccuracies)\n",
        "  dist = 'chebyshev'\n",
        "  k = chebyshevAccuracies.index(max(chebyshevAccuracies))+1\n",
        "minkowskiAccuracies = accuracies[90:]\n",
        "if max(minkowskiAccuracies) > gtr:\n",
        "  gtr = max(minkowskiAccuracies)\n",
        "  dist = 'minkowski'\n",
        "  k = minkowskiAccuracies.index(max(minkowskiAccuracies))+1\n",
        "print(k, gtr, dist)\n",
        "# plt.plot(kVals, accuracies)"
      ],
      "metadata": {
        "colab": {
          "base_uri": "https://localhost:8080/"
        },
        "id": "gGZU7pkHWBNM",
        "outputId": "64f59e95-337c-43e5-fc9b-7f9958d345c9"
      },
      "execution_count": 21,
      "outputs": [
        {
          "output_type": "stream",
          "name": "stdout",
          "text": [
            "4 0.871 manhattan\n"
          ]
        }
      ]
    },
    {
      "cell_type": "markdown",
      "source": [
        "Acurácia dos dados de teste para k=4, manhattan distance"
      ],
      "metadata": {
        "id": "wGeLO8Fgabqf"
      }
    },
    {
      "cell_type": "code",
      "source": [
        "model = KNeighborsClassifier(n_neighbors=k, metric=dist)\n",
        "model.fit(train, train_labels)\n",
        "# evaluate the model and update the accuracies list\n",
        "score = model.score(test, test_labels)\n",
        "print(\"k=%d, accuracy=%.2f%%\" % (k, score * 100))"
      ],
      "metadata": {
        "id": "dN0rrHZRZM6q",
        "colab": {
          "base_uri": "https://localhost:8080/"
        },
        "outputId": "babd7358-78b5-4069-9231-8861ba368318"
      },
      "execution_count": 22,
      "outputs": [
        {
          "output_type": "stream",
          "name": "stdout",
          "text": [
            "k=4, accuracy=86.78%\n"
          ]
        }
      ]
    },
    {
      "cell_type": "code",
      "source": [
        "model.predict(valData[0:1,:])"
      ],
      "metadata": {
        "colab": {
          "base_uri": "https://localhost:8080/"
        },
        "id": "Pk7W5aqEE5Ng",
        "outputId": "13566ae6-2e62-4627-9823-77bff763e210"
      },
      "execution_count": 23,
      "outputs": [
        {
          "output_type": "execute_result",
          "data": {
            "text/plain": [
              "array([8])"
            ]
          },
          "metadata": {},
          "execution_count": 23
        }
      ]
    },
    {
      "cell_type": "code",
      "source": [
        "valData[0:1,:]"
      ],
      "metadata": {
        "colab": {
          "base_uri": "https://localhost:8080/"
        },
        "id": "U9HGLyITFLUQ",
        "outputId": "21bcf657-00d5-427f-9a55-d9cffab00d08"
      },
      "execution_count": 24,
      "outputs": [
        {
          "output_type": "execute_result",
          "data": {
            "text/plain": [
              "array([[  8,   0,   0,   0,   0,   0,   0,   0,   0,   0,   0,   0,   0,\n",
              "          4,   0,  23, 105,  93,   0,   0,   2,   0,   0,   0,   0,   0,\n",
              "          0,   0,   0,   0,   0,   0,   0,   0,   0,   0,   0,   0,   0,\n",
              "          0,   1,   0,   0, 118,   0,  50, 113,   0,   0,   0,   0,   0,\n",
              "          0,   0,   0,   0,   0,   0,   0,   0,   0,   0,   0,   0,   0,\n",
              "          0,   0,   0,   5,   0,  75,  55,   0,   0, 101,  12,   0,   1,\n",
              "          0,   0,   0,   0,   0,   0,   0,   0,   0,   0,   0,   0,   0,\n",
              "          0,   0,   0,   0,   0,   1,   0, 104,   4,   0,   0,  78,  31,\n",
              "          0,   2,   0,   0,   0,   0,   0,   0,   0,   0,   0,   0,   0,\n",
              "          0,   0,   0,   0,   0,   0,   0,   0,   0,  99,   0,   9,   0,\n",
              "         99,  58,   0,   4,   0,   0,   0,   0,   0,   0,   0,   0,   0,\n",
              "          0,   0,   0,   0,   0,   0,   0,   0,   6,   0,  52,  95,   0,\n",
              "         12,   0,  82,  89,   0,   6,   0,   0,   0,   0,   0,   0,   0,\n",
              "          0,   0,   0,   0,   0,   0,   0,   0,   0,   0,   0,   0, 147,\n",
              "         52,   0,   8,   0,  54, 143,   0,   2,   0,   0,   0,   0,   0,\n",
              "          0,   0,   0,   0,   0,   0,   0,   0,   0,   0,   0,   7,   0,\n",
              "         83, 158,   0,   0,   4,   0,   0, 171,  26,   0,   2,   0,   0,\n",
              "          0,   0,   0,   0,   0,   0,   0,   0,   0,   0,   0,   0,   0,\n",
              "          4,   0, 155,  86,   0,   7,   0,   0,   0, 163,  83,   0,   7,\n",
              "          0,   0,   0,   0,   0,   0,   0,   0,   0,   0,   0,   0,   0,\n",
              "          0,   4,   0,  36, 172,   0,   0,   2,   0,   7,   0, 127, 142,\n",
              "          0,   6,   0,   0,   0,   0,   0,   0,   0,   0,   0,   0,   0,\n",
              "          0,   0,   0,   3,   0, 132, 125,   0,   7,   0,   0,   7,   0,\n",
              "         88, 172,   0,   0,   1,   0,   0,   0,   0,   0,   0,   0,   0,\n",
              "          0,   0,   1,   0,   2,   0,   5, 205,  61,   0,   6,   0,   0,\n",
              "          6,   0,  69, 186,   0,   0,   3,   0,   0,   0,   0,   0,   0,\n",
              "          0,   0,   0,   0,   3,   4,   6,   0,  90, 199,   0,   0,   5,\n",
              "          0,   0,   2,   0,  44, 188,   0,   0,   3,   0,   0,   0,   0,\n",
              "          0,   0,   0,   0,   0,   0,   4,   0,   0,   0, 129, 140,   0,\n",
              "          0,   0,   0,   0,   0,   0,   0, 179,  86,   0,   6,   1,   0,\n",
              "          0,   0,   0,   0,   0,   0,   0,   0,   0,  12,   0, 115, 186,\n",
              "         76,   0,   0,   0,   0,   0,   0,   0,   0, 177, 149,   0,   0,\n",
              "          0,   3,   0,   0,   0,   0,   0,   0,   0,   0, 141, 176, 184,\n",
              "        190, 196, 171, 143, 160, 164, 154, 150, 155, 171, 167, 164, 162,\n",
              "        162,  52,   0,   0,   0,   0,   0,   0,   0,   0,   0,   0, 217,\n",
              "        217, 181, 118, 155, 164, 170, 169, 171, 170, 168, 164, 159, 164,\n",
              "        160, 155, 167, 223, 183, 224,  32,   0,   0,   0,   0,   0,   0,\n",
              "         54, 219, 154, 174, 123, 146, 161, 157, 157, 160, 160, 159, 160,\n",
              "        165, 165, 147, 153, 157, 175, 192, 141,   0,   0,   0,   0,   0,\n",
              "          0,   0, 135, 229, 206, 222, 158, 167, 167, 172, 162, 159, 168,\n",
              "        174, 172, 170, 152, 153, 163, 134, 198, 198, 164,   0,   0,   0,\n",
              "          0,   0,   0,   0, 195, 254, 221, 206, 166, 173, 176, 175, 180,\n",
              "        189, 188, 177, 172, 168, 154, 152, 179, 160, 201, 208,  82, 177,\n",
              "          0,   0,   0,   0,   0,  35, 230, 221, 194, 219, 156, 177, 177,\n",
              "        174, 185, 187, 196, 183, 174, 175, 173, 171, 172, 178, 184, 195,\n",
              "          0, 105,   0,   0,   0,   0,   0,  97, 237, 172, 105, 255, 179,\n",
              "        172, 162, 171, 187, 184, 180, 184, 184, 167, 185, 189, 168, 178,\n",
              "        183, 235,   0,   0,   0,   0,   0,   0,   0, 149, 238, 127,  44,\n",
              "        255, 192, 185, 171, 176, 183, 189, 176, 178, 199, 182, 189, 188,\n",
              "        197, 181, 183, 200,   0,   0,   0,   0,   0,   0,   0, 156, 241,\n",
              "        202, 213, 229, 216, 213, 183, 180, 187, 198, 186, 183, 188, 194,\n",
              "        185, 168, 181, 175, 184,  45,   0,   0,   0,   0,   0,   0,   0,\n",
              "        152, 216, 208, 218, 204, 179, 221, 197, 180, 184, 191, 187, 182,\n",
              "        180, 180, 181, 163, 168, 191, 157,   0,   0,   0,   0,   0,   0,\n",
              "          0,   0, 161, 189, 175, 186, 175, 187, 215, 208, 204, 201, 204,\n",
              "        205, 207, 208, 209, 213, 212, 208, 197,  43,   0,   5,   0,   0,\n",
              "          0,   0,   0,   0, 124, 249, 195, 200, 243, 180,   0,   0,   0,\n",
              "          0,   0,  14,  13,  16,  17,  19,  24,  27,   0,   0,   0,   0,\n",
              "          1,   0,   0,   0,   0,   0,   0,   0,  29,  31,  12,   0,   0,\n",
              "          0,   0,   0,   0,   0,   0,   0,   0,   0,   0,   0,   0,   6,\n",
              "          0,   0,   0,   0,   0]])"
            ]
          },
          "metadata": {},
          "execution_count": 24
        }
      ]
    }
  ],
  "metadata": {
    "kernelspec": {
      "display_name": "Python 3",
      "language": "python",
      "name": "python3"
    },
    "language_info": {
      "codemirror_mode": {
        "name": "ipython",
        "version": 3
      },
      "file_extension": ".py",
      "mimetype": "text/x-python",
      "name": "python",
      "nbconvert_exporter": "python",
      "pygments_lexer": "ipython3",
      "version": "3.7.3"
    },
    "colab": {
      "provenance": [],
      "include_colab_link": true
    }
  },
  "nbformat": 4,
  "nbformat_minor": 0
}