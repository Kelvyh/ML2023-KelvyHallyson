{
  "cells": [
    {
      "cell_type": "markdown",
      "metadata": {
        "id": "view-in-github",
        "colab_type": "text"
      },
      "source": [
        "<a href=\"https://colab.research.google.com/github/Kelvyh/ML2023-KelvyHallyson/blob/main/Lista%2002%20-%20Crimes/MDIPcrimes.ipynb\" target=\"_parent\"><img src=\"https://colab.research.google.com/assets/colab-badge.svg\" alt=\"Open In Colab\"/></a>"
      ]
    },
    {
      "cell_type": "code",
      "execution_count": null,
      "id": "9ca5e361",
      "metadata": {
        "id": "9ca5e361"
      },
      "outputs": [],
      "source": [
        "import pandas as pd\n",
        "import matplotlib.pyplot as plt"
      ]
    },
    {
      "cell_type": "markdown",
      "id": "cc97505b",
      "metadata": {
        "id": "cc97505b"
      },
      "source": [
        "Dataset: http://www.ssp.sp.gov.br/transparenciassp/Consulta.aspx"
      ]
    },
    {
      "cell_type": "code",
      "execution_count": null,
      "id": "84f154a4",
      "metadata": {
        "id": "84f154a4"
      },
      "outputs": [],
      "source": [
        "data = pd.read_excel(\"MDIP_2013_2023.xlsx\", sheet_name=\"2019\")"
      ]
    },
    {
      "cell_type": "markdown",
      "id": "64d61632",
      "metadata": {
        "id": "64d61632"
      },
      "source": [
        "Excluindo dados duplicados"
      ]
    },
    {
      "cell_type": "code",
      "execution_count": null,
      "id": "fe45ada4",
      "metadata": {
        "id": "fe45ada4"
      },
      "outputs": [],
      "source": [
        "data = data.drop_duplicates()"
      ]
    },
    {
      "cell_type": "markdown",
      "id": "943e283b",
      "metadata": {
        "id": "943e283b"
      },
      "source": [
        "Excluindo colunas menos significativas para a nossa análise."
      ]
    },
    {
      "cell_type": "code",
      "execution_count": null,
      "id": "2a9756d1",
      "metadata": {
        "id": "2a9756d1"
      },
      "outputs": [],
      "source": [
        "data = data.drop(['DEPARTAMENTO_CIRCUNSCRICAO',\n",
        "       'ANO ESTATISTICA',\n",
        "       'ANO_BO', 'MUNICIPIO_ELABORACAO',\n",
        "       'DP_ELABORACAO', 'SEC_ELABORACAO', 'DEP_ELABORACAO',\n",
        "       'LATITUDE', 'LONGITUDE',\n",
        "       'DATA_NASCIMENTO_PESSOA','TIPO_PESSOA', 'PROFISSAO', 'NATUREZA_APURADA'], axis=1)"
      ]
    },
    {
      "cell_type": "markdown",
      "id": "c2c681f9",
      "metadata": {
        "id": "c2c681f9"
      },
      "source": [
        "Selecionando os dados somente de São Paulo."
      ]
    },
    {
      "cell_type": "code",
      "execution_count": null,
      "id": "39719f8e",
      "metadata": {
        "id": "39719f8e"
      },
      "outputs": [],
      "source": [
        "values = data[~data['MUNICIPIO_CIRCUNSCRICAO'].isin([\"S.PAULO\"])].index\n",
        "newindexes = list(range(0, 325))\n",
        "data = data.drop(values).reset_index().drop(labels='index',axis=1)"
      ]
    },
    {
      "cell_type": "markdown",
      "id": "dc29b71d",
      "metadata": {
        "id": "dc29b71d"
      },
      "source": [
        "Convertendo para tipos apropriados."
      ]
    },
    {
      "cell_type": "code",
      "execution_count": null,
      "id": "da9ce450",
      "metadata": {
        "id": "da9ce450"
      },
      "outputs": [],
      "source": [
        "data = data.convert_dtypes()"
      ]
    },
    {
      "cell_type": "markdown",
      "id": "fec8b0d9",
      "metadata": {
        "id": "fec8b0d9"
      },
      "source": [
        "Transformando strings para lowercase."
      ]
    },
    {
      "cell_type": "code",
      "execution_count": null,
      "id": "db68c893",
      "metadata": {
        "id": "db68c893"
      },
      "outputs": [],
      "source": [
        "data = data.applymap(lambda x: x.lower() if isinstance(x, str) else x)"
      ]
    },
    {
      "cell_type": "markdown",
      "id": "9da6a987",
      "metadata": {
        "id": "9da6a987"
      },
      "source": [
        "Preenchendo valores NaN."
      ]
    },
    {
      "cell_type": "code",
      "execution_count": null,
      "id": "c9032173",
      "metadata": {
        "id": "c9032173"
      },
      "outputs": [],
      "source": [
        "values = {\"NUMERO_LOGRADOURO\": -1, \"IDADE_PESSOA\": -1}\n",
        "data = data.fillna(value=values)"
      ]
    },
    {
      "cell_type": "code",
      "execution_count": null,
      "id": "e50580ae",
      "metadata": {
        "id": "e50580ae"
      },
      "outputs": [],
      "source": [
        "data = data.convert_dtypes()"
      ]
    },
    {
      "cell_type": "markdown",
      "id": "433d82cf",
      "metadata": {
        "id": "433d82cf"
      },
      "source": [
        "Plotagem dos dados para análise."
      ]
    },
    {
      "cell_type": "code",
      "execution_count": null,
      "id": "23e4fba8",
      "metadata": {
        "id": "23e4fba8",
        "outputId": "5bad78a6-6d1c-4cf0-be8c-8416f40c354b"
      },
      "outputs": [
        {
          "data": {
            "image/png": "[encoded data removed]",
            "text/plain": [
              "<Figure size 640x480 with 1 Axes>"
            ]
          },
          "metadata": {},
          "output_type": "display_data"
        }
      ],
      "source": [
        "fig, ax = plt.subplots()"
      ]
    },
    {
      "cell_type": "markdown",
      "id": "da0d40d4",
      "metadata": {
        "id": "da0d40d4"
      },
      "source": [
        "Cor da Pele das vítimas de MDIP, podemos ver uma maior quantidade da cor parda."
      ]
    },
    {
      "cell_type": "code",
      "execution_count": null,
      "id": "24091899",
      "metadata": {
        "id": "24091899"
      },
      "outputs": [],
      "source": [
        "data['COR_PELE'].value_counts().sort_values(ascending=False).plot(kind='barh', ax=ax)\n",
        "ax.set_xlabel(\"QUANTIDADE\")\n",
        "ax.set_ylabel(\"COR DA PELE\")\n",
        "plt.show()"
      ]
    },
    {
      "cell_type": "markdown",
      "id": "40a05945",
      "metadata": {
        "id": "40a05945"
      },
      "source": [
        "![Cor%20da%20pele.png](attachment:Cor%20da%20pele.png)"
      ]
    },
    {
      "cell_type": "markdown",
      "id": "89f8e8cb",
      "metadata": {
        "id": "89f8e8cb"
      },
      "source": [
        "Corporação dos policiais da MDIP, podemos ver que é bem mais comum uma intervenção da policia militar resultar em morte."
      ]
    },
    {
      "cell_type": "code",
      "execution_count": null,
      "id": "44738082",
      "metadata": {
        "id": "44738082"
      },
      "outputs": [],
      "source": [
        "data['COORPORAÇÃO'].value_counts().sort_values(ascending=False).plot(kind='barh', ax=ax)\n",
        "ax.set_xlabel(\"QUANTIDADE\")\n",
        "ax.set_ylabel(\"COORPORAÇÃO\")\n",
        "plt.show()"
      ]
    },
    {
      "cell_type": "markdown",
      "id": "c60b8efe",
      "metadata": {
        "id": "c60b8efe"
      },
      "source": [
        "![Corpora%C3%A7%C3%A3o.png](attachment:Corpora%C3%A7%C3%A3o.png)"
      ]
    },
    {
      "cell_type": "markdown",
      "id": "2c38b4a4",
      "metadata": {
        "id": "2c38b4a4"
      },
      "source": [
        "Local da ocorrência da MDIP, podemos ver que a maioria dos casos ocorrem em vias públicas."
      ]
    },
    {
      "cell_type": "code",
      "execution_count": null,
      "id": "467adb51",
      "metadata": {
        "id": "467adb51"
      },
      "outputs": [],
      "source": [
        "data['DESC_TIPOLOCAL'].value_counts().sort_values(ascending=False).plot(kind='barh', ax=ax)\n",
        "ax.set_xlabel(\"QUANTIDADE\")\n",
        "ax.set_ylabel(\"LOCAL\")\n",
        "plt.show()"
      ]
    },
    {
      "cell_type": "markdown",
      "id": "97d59331",
      "metadata": {
        "id": "97d59331"
      },
      "source": [
        "![Local.png](attachment:Local.png)"
      ]
    },
    {
      "cell_type": "markdown",
      "id": "1a00d741",
      "metadata": {
        "id": "1a00d741"
      },
      "source": [
        "Sexo das vítimas da MDIP, podemos ver que a grande maioria das vítimas são do sexo masculino."
      ]
    },
    {
      "cell_type": "code",
      "execution_count": null,
      "id": "409784fa",
      "metadata": {
        "id": "409784fa"
      },
      "outputs": [],
      "source": [
        "data['SEXO_PESSOA'].value_counts().sort_values(ascending=False).plot(kind='barh', ax=ax)\n",
        "ax.set_xlabel(\"QUANTIDADE\")\n",
        "ax.set_ylabel(\"SEXO\")\n",
        "plt.show()"
      ]
    },
    {
      "cell_type": "markdown",
      "id": "b507cf76",
      "metadata": {
        "id": "b507cf76"
      },
      "source": [
        "![Sexo.png](attachment:Sexo.png)"
      ]
    },
    {
      "cell_type": "markdown",
      "id": "682f91e7",
      "metadata": {
        "id": "682f91e7"
      },
      "source": [
        "Situação dos policias no ato da MDIP, podemos ver que a maioria dos casos ocorrem em serviço, porém, um considerável número ocorre durante folgas."
      ]
    },
    {
      "cell_type": "code",
      "execution_count": null,
      "id": "a5bebdfc",
      "metadata": {
        "id": "a5bebdfc"
      },
      "outputs": [],
      "source": [
        "data['SITUAÇÃO'].value_counts().sort_values(ascending=False).plot(kind='barh', ax=ax)\n",
        "ax.set_xlabel(\"QUANTIDADE\")\n",
        "ax.set_ylabel(\"SITUAÇÃO\")\n",
        "plt.show()"
      ]
    },
    {
      "cell_type": "markdown",
      "id": "e2d7f1ed",
      "metadata": {
        "id": "e2d7f1ed"
      },
      "source": [
        "![Situa%C3%A7%C3%A3o.png](attachment:Situa%C3%A7%C3%A3o.png)"
      ]
    }
  ],
  "metadata": {
    "kernelspec": {
      "display_name": "Python 3 (ipykernel)",
      "language": "python",
      "name": "python3"
    },
    "language_info": {
      "codemirror_mode": {
        "name": "ipython",
        "version": 3
      },
      "file_extension": ".py",
      "mimetype": "text/x-python",
      "name": "python",
      "nbconvert_exporter": "python",
      "pygments_lexer": "ipython3",
      "version": "3.10.5"
    },
    "colab": {
      "provenance": [],
      "include_colab_link": true
    }
  },
  "nbformat": 4,
  "nbformat_minor": 5
}